{
  "cells": [
    {
      "cell_type": "markdown",
      "metadata": {
        "id": "0aStgWSO0E0E"
      },
      "source": [
        "# **Scikit-learn - PCA (Principal Component Analysis)**"
      ]
    },
    {
      "cell_type": "markdown",
      "metadata": {
        "id": "1eLEkw5O0ECa"
      },
      "source": [
        "## Objectives\n",
        "\n",
        "* Understand what PCA (Principal Component Analysis) is and how it can be used in a project\n",
        "\n"
      ]
    },
    {
      "cell_type": "markdown",
      "metadata": {
        "id": "9uWZXH9LwoQg"
      },
      "source": [
        "---"
      ]
    },
    {
      "cell_type": "markdown",
      "metadata": {
        "id": "cqP-UeN-z3i2"
      },
      "source": [
        "# Change working directory"
      ]
    },
    {
      "cell_type": "markdown",
      "metadata": {},
      "source": [
        "* We are assuming you will store the notebooks in a subfolder, therefore when running the notebook in the editor, you will need to change the working directory"
      ]
    },
    {
      "cell_type": "markdown",
      "metadata": {
        "id": "aOGIGS-uz3i2"
      },
      "source": [
        "We need to change the working directory from its current folder to its parent folder\n",
        "* We access the current directory with os.getcwd()"
      ]
    },
    {
      "cell_type": "code",
      "execution_count": null,
      "metadata": {
        "id": "wZfF_j-Bz3i4",
        "outputId": "66943449-1436-4c3d-85c7-b85f9f78349b"
      },
      "outputs": [],
      "source": [
        "import os\n",
        "current_dir = os.getcwd()\n",
        "current_dir"
      ]
    },
    {
      "cell_type": "markdown",
      "metadata": {
        "id": "9MWW8E7lz3i7"
      },
      "source": [
        "We want to make the parent of the current directory the new current directory\n",
        "* os.path.dirname() gets the parent directory\n",
        "* os.chir() defines the new current directory"
      ]
    },
    {
      "cell_type": "code",
      "execution_count": null,
      "metadata": {
        "id": "TwHsQRWjz3i9",
        "outputId": "86849db3-cd2f-4cc5-ebb8-2d0caafa1a2c"
      },
      "outputs": [],
      "source": [
        "os.chdir(os.path.dirname(current_dir))\n",
        "print(\"You set a new current directory\")"
      ]
    },
    {
      "cell_type": "markdown",
      "metadata": {
        "id": "M_xPk_Ijz3i-"
      },
      "source": [
        "Confirm the new current directory"
      ]
    },
    {
      "cell_type": "code",
      "execution_count": null,
      "metadata": {
        "id": "vz3S-_kjz3jA",
        "outputId": "00b79ae4-75d0-4a96-d193-ac9ef9847ea2"
      },
      "outputs": [],
      "source": [
        "current_dir = os.getcwd()\n",
        "current_dir"
      ]
    },
    {
      "cell_type": "markdown",
      "metadata": {
        "id": "-mavJ8DibrcQ"
      },
      "source": [
        "## PCA (Principal Component Analysis)"
      ]
    },
    {
      "cell_type": "markdown",
      "metadata": {},
      "source": [
        "Import Libararies"
      ]
    },
    {
      "cell_type": "code",
      "execution_count": 1,
      "metadata": {},
      "outputs": [],
      "source": [
        "import numpy as np\n",
        "import pandas as pd\n",
        "import matplotlib.pyplot as plt\n",
        "import seaborn as sns\n",
        "sns.set_style(\"whitegrid\")"
      ]
    },
    {
      "cell_type": "markdown",
      "metadata": {
        "id": "ZY3l0-AxO93d"
      },
      "source": [
        "Principal Component Analysis, or PCA, is a transformation of your data and attempts to find out what features explain the most variance in your data.\n",
        "\n",
        "* It reduces the number of variables while preserving as much information as possible. Therefore, it is also referred to as \"dimensionality reduction\".\n",
        "* After the transformation, it creates a set of components, where each component contains the relevant information from the original variables.\n",
        "* Each component explains a certain part of the variance of the whole dataset and is independent (uncorrelated) from each other.\n",
        "* The drawback of PCA is that it is not easy to understand what each of these components represents since they don't relate one-to-one to a specific variable. Instead, each component corresponds to a combination of the original variable."
      ]
    },
    {
      "cell_type": "markdown",
      "metadata": {
        "id": "uFQo3ycuO-v6"
      },
      "source": [
        "### Why and when should we consider using PCA?"
      ]
    },
    {
      "cell_type": "markdown",
      "metadata": {},
      "source": [
        "* If our data has a lot of variables (or dimensions).\n",
        "\n",
        "We want to be able to visualise our data to discover patterns. However, it is unfeasible to visualise all of our data in a single plot. We can use PCA to reduce our dataset to 2 or 3 components and visualise it.\n",
        "\n",
        "In predictive modelling, we are concerned about which variables are more relevant for modelling. PCA is a tool capable of transforming your data, retaining only the most appropriate information or the most variance while keeping all the original variables that help the model learn the patterns in the data.\n",
        "\n",
        "* In supervised learning, PCA can be used as a step when extracting features for our ML model. Instead of using, for example, SelectFromModel(). You may also use PCA to transform your features into relevant components that can help to predict your target variable.\n",
        "* In addition, in unsupervised learning, you can use PCA as a step to reduce dimensionality. So your cluster algorithm will be able to understand better how to group similar data."
      ]
    },
    {
      "cell_type": "code",
      "execution_count": null,
      "metadata": {},
      "outputs": [],
      "source": [
        "#import PCA\n",
        "from sklearn.decomposition import PCA"
      ]
    },
    {
      "cell_type": "markdown",
      "metadata": {},
      "source": [
        "### Load Data\n",
        "\n",
        "Let's load the breast cancer data from sklearn and apply PCA\n",
        "\n",
        "* It shows records for a breast mass sample and a diagnosis informing whether it is a malignant or benign cancer, where 0 is malignant 1 is benign.\n",
        "* The target variable is 'diagnostic', and features are the remaining variables.\n",
        "\n",
        "We know in advance this dataset has only numerical features and no missing data.\n",
        "\n",
        "* We are adding on purpose missing data (np.NaN) in the first 10 rows of 'mean smoothness' using .iloc[:10,4], just to simulate better real datasets. "
      ]
    },
    {
      "cell_type": "code",
      "execution_count": 2,
      "metadata": {},
      "outputs": [
        {
          "name": "stdout",
          "output_type": "stream",
          "text": [
            "(341, 31)\n"
          ]
        },
        {
          "data": {
            "text/html": [
              "<div>\n",
              "<style scoped>\n",
              "    .dataframe tbody tr th:only-of-type {\n",
              "        vertical-align: middle;\n",
              "    }\n",
              "\n",
              "    .dataframe tbody tr th {\n",
              "        vertical-align: top;\n",
              "    }\n",
              "\n",
              "    .dataframe thead th {\n",
              "        text-align: right;\n",
              "    }\n",
              "</style>\n",
              "<table border=\"1\" class=\"dataframe\">\n",
              "  <thead>\n",
              "    <tr style=\"text-align: right;\">\n",
              "      <th></th>\n",
              "      <th>mean radius</th>\n",
              "      <th>mean texture</th>\n",
              "      <th>mean perimeter</th>\n",
              "      <th>mean area</th>\n",
              "      <th>mean smoothness</th>\n",
              "      <th>mean compactness</th>\n",
              "      <th>mean concavity</th>\n",
              "      <th>mean concave points</th>\n",
              "      <th>mean symmetry</th>\n",
              "      <th>mean fractal dimension</th>\n",
              "      <th>...</th>\n",
              "      <th>worst texture</th>\n",
              "      <th>worst perimeter</th>\n",
              "      <th>worst area</th>\n",
              "      <th>worst smoothness</th>\n",
              "      <th>worst compactness</th>\n",
              "      <th>worst concavity</th>\n",
              "      <th>worst concave points</th>\n",
              "      <th>worst symmetry</th>\n",
              "      <th>worst fractal dimension</th>\n",
              "      <th>diagnostic</th>\n",
              "    </tr>\n",
              "  </thead>\n",
              "  <tbody>\n",
              "    <tr>\n",
              "      <th>107</th>\n",
              "      <td>12.36</td>\n",
              "      <td>18.54</td>\n",
              "      <td>79.01</td>\n",
              "      <td>466.7</td>\n",
              "      <td>NaN</td>\n",
              "      <td>0.06815</td>\n",
              "      <td>0.02643</td>\n",
              "      <td>0.01921</td>\n",
              "      <td>0.1602</td>\n",
              "      <td>0.06066</td>\n",
              "      <td>...</td>\n",
              "      <td>27.49</td>\n",
              "      <td>85.56</td>\n",
              "      <td>544.1</td>\n",
              "      <td>0.11840</td>\n",
              "      <td>0.19630</td>\n",
              "      <td>0.19370</td>\n",
              "      <td>0.08442</td>\n",
              "      <td>0.2983</td>\n",
              "      <td>0.07185</td>\n",
              "      <td>1</td>\n",
              "    </tr>\n",
              "    <tr>\n",
              "      <th>437</th>\n",
              "      <td>14.04</td>\n",
              "      <td>15.98</td>\n",
              "      <td>89.78</td>\n",
              "      <td>611.2</td>\n",
              "      <td>NaN</td>\n",
              "      <td>0.05895</td>\n",
              "      <td>0.03534</td>\n",
              "      <td>0.02944</td>\n",
              "      <td>0.1714</td>\n",
              "      <td>0.05898</td>\n",
              "      <td>...</td>\n",
              "      <td>21.58</td>\n",
              "      <td>101.20</td>\n",
              "      <td>750.0</td>\n",
              "      <td>0.11950</td>\n",
              "      <td>0.12520</td>\n",
              "      <td>0.11170</td>\n",
              "      <td>0.07453</td>\n",
              "      <td>0.2725</td>\n",
              "      <td>0.07234</td>\n",
              "      <td>1</td>\n",
              "    </tr>\n",
              "    <tr>\n",
              "      <th>195</th>\n",
              "      <td>12.91</td>\n",
              "      <td>16.33</td>\n",
              "      <td>82.53</td>\n",
              "      <td>516.4</td>\n",
              "      <td>NaN</td>\n",
              "      <td>0.05366</td>\n",
              "      <td>0.03873</td>\n",
              "      <td>0.02377</td>\n",
              "      <td>0.1829</td>\n",
              "      <td>0.05667</td>\n",
              "      <td>...</td>\n",
              "      <td>22.00</td>\n",
              "      <td>90.81</td>\n",
              "      <td>600.6</td>\n",
              "      <td>0.10970</td>\n",
              "      <td>0.15060</td>\n",
              "      <td>0.17640</td>\n",
              "      <td>0.08235</td>\n",
              "      <td>0.3024</td>\n",
              "      <td>0.06949</td>\n",
              "      <td>1</td>\n",
              "    </tr>\n",
              "    <tr>\n",
              "      <th>141</th>\n",
              "      <td>16.11</td>\n",
              "      <td>18.05</td>\n",
              "      <td>105.10</td>\n",
              "      <td>813.0</td>\n",
              "      <td>NaN</td>\n",
              "      <td>0.11370</td>\n",
              "      <td>0.09447</td>\n",
              "      <td>0.05943</td>\n",
              "      <td>0.1861</td>\n",
              "      <td>0.06248</td>\n",
              "      <td>...</td>\n",
              "      <td>25.27</td>\n",
              "      <td>129.00</td>\n",
              "      <td>1233.0</td>\n",
              "      <td>0.13140</td>\n",
              "      <td>0.22360</td>\n",
              "      <td>0.28020</td>\n",
              "      <td>0.12160</td>\n",
              "      <td>0.2792</td>\n",
              "      <td>0.08158</td>\n",
              "      <td>0</td>\n",
              "    </tr>\n",
              "    <tr>\n",
              "      <th>319</th>\n",
              "      <td>12.43</td>\n",
              "      <td>17.00</td>\n",
              "      <td>78.60</td>\n",
              "      <td>477.3</td>\n",
              "      <td>NaN</td>\n",
              "      <td>0.03454</td>\n",
              "      <td>0.01342</td>\n",
              "      <td>0.01699</td>\n",
              "      <td>0.1472</td>\n",
              "      <td>0.05561</td>\n",
              "      <td>...</td>\n",
              "      <td>20.21</td>\n",
              "      <td>81.76</td>\n",
              "      <td>515.9</td>\n",
              "      <td>0.08409</td>\n",
              "      <td>0.04712</td>\n",
              "      <td>0.02237</td>\n",
              "      <td>0.02832</td>\n",
              "      <td>0.1901</td>\n",
              "      <td>0.05932</td>\n",
              "      <td>1</td>\n",
              "    </tr>\n",
              "  </tbody>\n",
              "</table>\n",
              "<p>5 rows × 31 columns</p>\n",
              "</div>"
            ],
            "text/plain": [
              "     mean radius  mean texture  mean perimeter  mean area  mean smoothness  \\\n",
              "107        12.36         18.54           79.01      466.7              NaN   \n",
              "437        14.04         15.98           89.78      611.2              NaN   \n",
              "195        12.91         16.33           82.53      516.4              NaN   \n",
              "141        16.11         18.05          105.10      813.0              NaN   \n",
              "319        12.43         17.00           78.60      477.3              NaN   \n",
              "\n",
              "     mean compactness  mean concavity  mean concave points  mean symmetry  \\\n",
              "107           0.06815         0.02643              0.01921         0.1602   \n",
              "437           0.05895         0.03534              0.02944         0.1714   \n",
              "195           0.05366         0.03873              0.02377         0.1829   \n",
              "141           0.11370         0.09447              0.05943         0.1861   \n",
              "319           0.03454         0.01342              0.01699         0.1472   \n",
              "\n",
              "     mean fractal dimension  ...  worst texture  worst perimeter  worst area  \\\n",
              "107                 0.06066  ...          27.49            85.56       544.1   \n",
              "437                 0.05898  ...          21.58           101.20       750.0   \n",
              "195                 0.05667  ...          22.00            90.81       600.6   \n",
              "141                 0.06248  ...          25.27           129.00      1233.0   \n",
              "319                 0.05561  ...          20.21            81.76       515.9   \n",
              "\n",
              "     worst smoothness  worst compactness  worst concavity  \\\n",
              "107           0.11840            0.19630          0.19370   \n",
              "437           0.11950            0.12520          0.11170   \n",
              "195           0.10970            0.15060          0.17640   \n",
              "141           0.13140            0.22360          0.28020   \n",
              "319           0.08409            0.04712          0.02237   \n",
              "\n",
              "     worst concave points  worst symmetry  worst fractal dimension  diagnostic  \n",
              "107               0.08442          0.2983                  0.07185           1  \n",
              "437               0.07453          0.2725                  0.07234           1  \n",
              "195               0.08235          0.3024                  0.06949           1  \n",
              "141               0.12160          0.2792                  0.08158           0  \n",
              "319               0.02832          0.1901                  0.05932           1  \n",
              "\n",
              "[5 rows x 31 columns]"
            ]
          },
          "execution_count": 2,
          "metadata": {},
          "output_type": "execute_result"
        }
      ],
      "source": [
        "from sklearn.datasets import load_breast_cancer\n",
        "import pandas as pd\n",
        "\n",
        "data = load_breast_cancer()\n",
        "df_clf = pd.DataFrame(data.data,columns=data.feature_names)\n",
        "df_clf['diagnostic'] = pd.Series(data.target)\n",
        "df_clf = df_clf.sample(frac=0.6, random_state=101)\n",
        "df_clf.iloc[:10,4] = np.NaN\n",
        "\n",
        "print(df_clf.shape)\n",
        "df_clf.head()"
      ]
    },
    {
      "cell_type": "markdown",
      "metadata": {},
      "source": [
        "We are interested in applying PCA to the features only (not the diagnostic)\n",
        "\n",
        "* We create 2 distinct DataFrames, X, which is the features, and df_target, which contains the diagnostic (benign or malignant).\n",
        "    * Note, there are 30 features in X.\n",
        "    * We will use X to apply PCA and df_target at a later stage when we visualise the data."
      ]
    },
    {
      "cell_type": "code",
      "execution_count": 3,
      "metadata": {},
      "outputs": [
        {
          "name": "stdout",
          "output_type": "stream",
          "text": [
            "(341, 30)\n"
          ]
        },
        {
          "data": {
            "text/html": [
              "<div>\n",
              "<style scoped>\n",
              "    .dataframe tbody tr th:only-of-type {\n",
              "        vertical-align: middle;\n",
              "    }\n",
              "\n",
              "    .dataframe tbody tr th {\n",
              "        vertical-align: top;\n",
              "    }\n",
              "\n",
              "    .dataframe thead th {\n",
              "        text-align: right;\n",
              "    }\n",
              "</style>\n",
              "<table border=\"1\" class=\"dataframe\">\n",
              "  <thead>\n",
              "    <tr style=\"text-align: right;\">\n",
              "      <th></th>\n",
              "      <th>mean radius</th>\n",
              "      <th>mean texture</th>\n",
              "      <th>mean perimeter</th>\n",
              "      <th>mean area</th>\n",
              "      <th>mean smoothness</th>\n",
              "      <th>mean compactness</th>\n",
              "      <th>mean concavity</th>\n",
              "      <th>mean concave points</th>\n",
              "      <th>mean symmetry</th>\n",
              "      <th>mean fractal dimension</th>\n",
              "      <th>...</th>\n",
              "      <th>worst radius</th>\n",
              "      <th>worst texture</th>\n",
              "      <th>worst perimeter</th>\n",
              "      <th>worst area</th>\n",
              "      <th>worst smoothness</th>\n",
              "      <th>worst compactness</th>\n",
              "      <th>worst concavity</th>\n",
              "      <th>worst concave points</th>\n",
              "      <th>worst symmetry</th>\n",
              "      <th>worst fractal dimension</th>\n",
              "    </tr>\n",
              "  </thead>\n",
              "  <tbody>\n",
              "    <tr>\n",
              "      <th>107</th>\n",
              "      <td>12.36</td>\n",
              "      <td>18.54</td>\n",
              "      <td>79.01</td>\n",
              "      <td>466.7</td>\n",
              "      <td>NaN</td>\n",
              "      <td>0.06815</td>\n",
              "      <td>0.02643</td>\n",
              "      <td>0.01921</td>\n",
              "      <td>0.1602</td>\n",
              "      <td>0.06066</td>\n",
              "      <td>...</td>\n",
              "      <td>13.29</td>\n",
              "      <td>27.49</td>\n",
              "      <td>85.56</td>\n",
              "      <td>544.1</td>\n",
              "      <td>0.1184</td>\n",
              "      <td>0.1963</td>\n",
              "      <td>0.1937</td>\n",
              "      <td>0.08442</td>\n",
              "      <td>0.2983</td>\n",
              "      <td>0.07185</td>\n",
              "    </tr>\n",
              "    <tr>\n",
              "      <th>437</th>\n",
              "      <td>14.04</td>\n",
              "      <td>15.98</td>\n",
              "      <td>89.78</td>\n",
              "      <td>611.2</td>\n",
              "      <td>NaN</td>\n",
              "      <td>0.05895</td>\n",
              "      <td>0.03534</td>\n",
              "      <td>0.02944</td>\n",
              "      <td>0.1714</td>\n",
              "      <td>0.05898</td>\n",
              "      <td>...</td>\n",
              "      <td>15.66</td>\n",
              "      <td>21.58</td>\n",
              "      <td>101.20</td>\n",
              "      <td>750.0</td>\n",
              "      <td>0.1195</td>\n",
              "      <td>0.1252</td>\n",
              "      <td>0.1117</td>\n",
              "      <td>0.07453</td>\n",
              "      <td>0.2725</td>\n",
              "      <td>0.07234</td>\n",
              "    </tr>\n",
              "    <tr>\n",
              "      <th>195</th>\n",
              "      <td>12.91</td>\n",
              "      <td>16.33</td>\n",
              "      <td>82.53</td>\n",
              "      <td>516.4</td>\n",
              "      <td>NaN</td>\n",
              "      <td>0.05366</td>\n",
              "      <td>0.03873</td>\n",
              "      <td>0.02377</td>\n",
              "      <td>0.1829</td>\n",
              "      <td>0.05667</td>\n",
              "      <td>...</td>\n",
              "      <td>13.88</td>\n",
              "      <td>22.00</td>\n",
              "      <td>90.81</td>\n",
              "      <td>600.6</td>\n",
              "      <td>0.1097</td>\n",
              "      <td>0.1506</td>\n",
              "      <td>0.1764</td>\n",
              "      <td>0.08235</td>\n",
              "      <td>0.3024</td>\n",
              "      <td>0.06949</td>\n",
              "    </tr>\n",
              "  </tbody>\n",
              "</table>\n",
              "<p>3 rows × 30 columns</p>\n",
              "</div>"
            ],
            "text/plain": [
              "     mean radius  mean texture  mean perimeter  mean area  mean smoothness  \\\n",
              "107        12.36         18.54           79.01      466.7              NaN   \n",
              "437        14.04         15.98           89.78      611.2              NaN   \n",
              "195        12.91         16.33           82.53      516.4              NaN   \n",
              "\n",
              "     mean compactness  mean concavity  mean concave points  mean symmetry  \\\n",
              "107           0.06815         0.02643              0.01921         0.1602   \n",
              "437           0.05895         0.03534              0.02944         0.1714   \n",
              "195           0.05366         0.03873              0.02377         0.1829   \n",
              "\n",
              "     mean fractal dimension  ...  worst radius  worst texture  \\\n",
              "107                 0.06066  ...         13.29          27.49   \n",
              "437                 0.05898  ...         15.66          21.58   \n",
              "195                 0.05667  ...         13.88          22.00   \n",
              "\n",
              "     worst perimeter  worst area  worst smoothness  worst compactness  \\\n",
              "107            85.56       544.1            0.1184             0.1963   \n",
              "437           101.20       750.0            0.1195             0.1252   \n",
              "195            90.81       600.6            0.1097             0.1506   \n",
              "\n",
              "     worst concavity  worst concave points  worst symmetry  \\\n",
              "107           0.1937               0.08442          0.2983   \n",
              "437           0.1117               0.07453          0.2725   \n",
              "195           0.1764               0.08235          0.3024   \n",
              "\n",
              "     worst fractal dimension  \n",
              "107                  0.07185  \n",
              "437                  0.07234  \n",
              "195                  0.06949  \n",
              "\n",
              "[3 rows x 30 columns]"
            ]
          },
          "execution_count": 3,
          "metadata": {},
          "output_type": "execute_result"
        }
      ],
      "source": [
        "df_target = df_clf[['diagnostic']]\n",
        "X = df_clf.drop(['diagnostic'], axis=1)\n",
        "print(X.shape)\n",
        "X.head(3)"
      ]
    },
    {
      "cell_type": "markdown",
      "metadata": {},
      "source": [
        "### Create pipeline steps\n",
        "\n",
        "To apply PCA, we should scale the data. Therefore we create our pipeline that is responsible for data cleaning, feature engineering and feature scaling.\n",
        "\n",
        "In our case, it will perform data cleaning (median imputation) and feature scaling."
      ]
    },
    {
      "cell_type": "code",
      "execution_count": 4,
      "metadata": {},
      "outputs": [
        {
          "data": {
            "text/html": [
              "<style>#sk-container-id-1 {color: black;}#sk-container-id-1 pre{padding: 0;}#sk-container-id-1 div.sk-toggleable {background-color: white;}#sk-container-id-1 label.sk-toggleable__label {cursor: pointer;display: block;width: 100%;margin-bottom: 0;padding: 0.3em;box-sizing: border-box;text-align: center;}#sk-container-id-1 label.sk-toggleable__label-arrow:before {content: \"▸\";float: left;margin-right: 0.25em;color: #696969;}#sk-container-id-1 label.sk-toggleable__label-arrow:hover:before {color: black;}#sk-container-id-1 div.sk-estimator:hover label.sk-toggleable__label-arrow:before {color: black;}#sk-container-id-1 div.sk-toggleable__content {max-height: 0;max-width: 0;overflow: hidden;text-align: left;background-color: #f0f8ff;}#sk-container-id-1 div.sk-toggleable__content pre {margin: 0.2em;color: black;border-radius: 0.25em;background-color: #f0f8ff;}#sk-container-id-1 input.sk-toggleable__control:checked~div.sk-toggleable__content {max-height: 200px;max-width: 100%;overflow: auto;}#sk-container-id-1 input.sk-toggleable__control:checked~label.sk-toggleable__label-arrow:before {content: \"▾\";}#sk-container-id-1 div.sk-estimator input.sk-toggleable__control:checked~label.sk-toggleable__label {background-color: #d4ebff;}#sk-container-id-1 div.sk-label input.sk-toggleable__control:checked~label.sk-toggleable__label {background-color: #d4ebff;}#sk-container-id-1 input.sk-hidden--visually {border: 0;clip: rect(1px 1px 1px 1px);clip: rect(1px, 1px, 1px, 1px);height: 1px;margin: -1px;overflow: hidden;padding: 0;position: absolute;width: 1px;}#sk-container-id-1 div.sk-estimator {font-family: monospace;background-color: #f0f8ff;border: 1px dotted black;border-radius: 0.25em;box-sizing: border-box;margin-bottom: 0.5em;}#sk-container-id-1 div.sk-estimator:hover {background-color: #d4ebff;}#sk-container-id-1 div.sk-parallel-item::after {content: \"\";width: 100%;border-bottom: 1px solid gray;flex-grow: 1;}#sk-container-id-1 div.sk-label:hover label.sk-toggleable__label {background-color: #d4ebff;}#sk-container-id-1 div.sk-serial::before {content: \"\";position: absolute;border-left: 1px solid gray;box-sizing: border-box;top: 0;bottom: 0;left: 50%;z-index: 0;}#sk-container-id-1 div.sk-serial {display: flex;flex-direction: column;align-items: center;background-color: white;padding-right: 0.2em;padding-left: 0.2em;position: relative;}#sk-container-id-1 div.sk-item {position: relative;z-index: 1;}#sk-container-id-1 div.sk-parallel {display: flex;align-items: stretch;justify-content: center;background-color: white;position: relative;}#sk-container-id-1 div.sk-item::before, #sk-container-id-1 div.sk-parallel-item::before {content: \"\";position: absolute;border-left: 1px solid gray;box-sizing: border-box;top: 0;bottom: 0;left: 50%;z-index: -1;}#sk-container-id-1 div.sk-parallel-item {display: flex;flex-direction: column;z-index: 1;position: relative;background-color: white;}#sk-container-id-1 div.sk-parallel-item:first-child::after {align-self: flex-end;width: 50%;}#sk-container-id-1 div.sk-parallel-item:last-child::after {align-self: flex-start;width: 50%;}#sk-container-id-1 div.sk-parallel-item:only-child::after {width: 0;}#sk-container-id-1 div.sk-dashed-wrapped {border: 1px dashed gray;margin: 0 0.4em 0.5em 0.4em;box-sizing: border-box;padding-bottom: 0.4em;background-color: white;}#sk-container-id-1 div.sk-label label {font-family: monospace;font-weight: bold;display: inline-block;line-height: 1.2em;}#sk-container-id-1 div.sk-label-container {text-align: center;}#sk-container-id-1 div.sk-container {/* jupyter's `normalize.less` sets `[hidden] { display: none; }` but bootstrap.min.css set `[hidden] { display: none !important; }` so we also need the `!important` here to be able to override the default hidden behavior on the sphinx rendered scikit-learn.org. See: https://github.com/scikit-learn/scikit-learn/issues/21755 */display: inline-block !important;position: relative;}#sk-container-id-1 div.sk-text-repr-fallback {display: none;}</style><div id=\"sk-container-id-1\" class=\"sk-top-container\"><div class=\"sk-text-repr-fallback\"><pre>Pipeline(steps=[(&#x27;MeanMedianImputer&#x27;, MeanMedianImputer()),\n",
              "                (&#x27;feature_scaling&#x27;, StandardScaler())])</pre><b>In a Jupyter environment, please rerun this cell to show the HTML representation or trust the notebook. <br />On GitHub, the HTML representation is unable to render, please try loading this page with nbviewer.org.</b></div><div class=\"sk-container\" hidden><div class=\"sk-item sk-dashed-wrapped\"><div class=\"sk-label-container\"><div class=\"sk-label sk-toggleable\"><input class=\"sk-toggleable__control sk-hidden--visually\" id=\"sk-estimator-id-1\" type=\"checkbox\" ><label for=\"sk-estimator-id-1\" class=\"sk-toggleable__label sk-toggleable__label-arrow\">Pipeline</label><div class=\"sk-toggleable__content\"><pre>Pipeline(steps=[(&#x27;MeanMedianImputer&#x27;, MeanMedianImputer()),\n",
              "                (&#x27;feature_scaling&#x27;, StandardScaler())])</pre></div></div></div><div class=\"sk-serial\"><div class=\"sk-item\"><div class=\"sk-estimator sk-toggleable\"><input class=\"sk-toggleable__control sk-hidden--visually\" id=\"sk-estimator-id-2\" type=\"checkbox\" ><label for=\"sk-estimator-id-2\" class=\"sk-toggleable__label sk-toggleable__label-arrow\">MeanMedianImputer</label><div class=\"sk-toggleable__content\"><pre>MeanMedianImputer()</pre></div></div></div><div class=\"sk-item\"><div class=\"sk-estimator sk-toggleable\"><input class=\"sk-toggleable__control sk-hidden--visually\" id=\"sk-estimator-id-3\" type=\"checkbox\" ><label for=\"sk-estimator-id-3\" class=\"sk-toggleable__label sk-toggleable__label-arrow\">StandardScaler</label><div class=\"sk-toggleable__content\"><pre>StandardScaler()</pre></div></div></div></div></div></div></div>"
            ],
            "text/plain": [
              "Pipeline(steps=[('MeanMedianImputer', MeanMedianImputer()),\n",
              "                ('feature_scaling', StandardScaler())])"
            ]
          },
          "execution_count": 4,
          "metadata": {},
          "output_type": "execute_result"
        }
      ],
      "source": [
        "from sklearn.pipeline import Pipeline\n",
        "### Data Cleaning\n",
        "from feature_engine.imputation import MeanMedianImputer\n",
        "### Feat Scaling\n",
        "from sklearn.preprocessing import StandardScaler\n",
        "\n",
        "\n",
        "def PipelineDataCleaningFeatEngFeatScaling():\n",
        "  pipeline_base = Pipeline([\n",
        "                            \n",
        "      ( 'MeanMedianImputer', MeanMedianImputer(imputation_method='median') ),\n",
        "\n",
        "      ( 'feature_scaling', StandardScaler() ),\n",
        "  ])\n",
        "\n",
        "  return pipeline_base\n",
        "\n",
        "PipelineDataCleaningFeatEngFeatScaling()"
      ]
    },
    {
      "cell_type": "markdown",
      "metadata": {},
      "source": [
        "We fit and transform the data to the pipeline.\n",
        "\n",
        "* The result is a NumPy array. Note there are still the same quantity of rows and columns (341, 30). The point to note is that the data type is now an array due to the feature scaling transformation."
      ]
    },
    {
      "cell_type": "code",
      "execution_count": 5,
      "metadata": {},
      "outputs": [
        {
          "name": "stdout",
          "output_type": "stream",
          "text": [
            "(341, 30) \n",
            " <class 'numpy.ndarray'>\n"
          ]
        }
      ],
      "source": [
        "pipeline_pca = PipelineDataCleaningFeatEngFeatScaling()\n",
        "df_pca = pipeline_pca.fit_transform(X)\n",
        "print(df_pca.shape,'\\n', type(df_pca))"
      ]
    },
    {
      "cell_type": "code",
      "execution_count": 7,
      "metadata": {},
      "outputs": [
        {
          "data": {
            "text/plain": [
              "array([[-0.56738473, -0.16536585, -0.59933184, ..., -0.50820136,\n",
              "         0.1792575 , -0.63049085],\n",
              "       [-0.07141397, -0.77390549, -0.13893309, ..., -0.66545513,\n",
              "        -0.27508597, -0.60317217],\n",
              "       [-0.40501335, -0.69070671, -0.44885797, ..., -0.54111494,\n",
              "         0.25145937, -0.76206648],\n",
              "       ...,\n",
              "       [ 2.35825232,  0.10324735,  2.55506217, ...,  2.77647856,\n",
              "         2.06707222,  0.82130135],\n",
              "       [-0.88031867, -0.24856463, -0.81649299, ...,  0.08615112,\n",
              "         0.75158939,  2.59478483],\n",
              "       [ 0.34779941, -1.74614265,  0.40482476, ...,  1.0544782 ,\n",
              "         0.58957544,  0.99469128]])"
            ]
          },
          "execution_count": 7,
          "metadata": {},
          "output_type": "execute_result"
        }
      ],
      "source": [
        "#check pca array\n",
        "df_pca"
      ]
    },
    {
      "cell_type": "markdown",
      "metadata": {},
      "source": [
        "### PCA transformation\n",
        "\n",
        "Now that the data is scaled, we can apply the PCA component.\n",
        "\n",
        "* We are not assembling PCA to a pipeline at this point, we will do that at a later stage. \n",
        "* A quick recap: PCA reduces the number of variables while it preserves as much information as possible. After the transformation, it creates a set of components, where each component contains the relevant information from the original variables.\n",
        "\n",
        "* How many components should I consider? That depends; let's test setting the number of components as the number of columns the scaled data has, in this case, 30. That is useful in understanding the explained variance of each component."
      ]
    },
    {
      "cell_type": "code",
      "execution_count": 8,
      "metadata": {},
      "outputs": [
        {
          "name": "stdout",
          "output_type": "stream",
          "text": [
            "* The 30 components explain 100.0% of the data \n",
            "\n",
            "              Explained Variance Ratio (%)\n",
            "Component 0                          43.68\n",
            "Component 1                          18.48\n",
            "Component 2                          10.31\n",
            "Component 3                           6.72\n",
            "Component 4                           5.88\n",
            "Component 5                           3.86\n",
            "Component 6                           2.44\n",
            "Component 7                           1.63\n",
            "Component 8                           1.31\n",
            "Component 9                           1.05\n",
            "Component 10                          0.96\n",
            "Component 11                          0.84\n",
            "Component 12                          0.73\n",
            "Component 13                          0.42\n",
            "Component 14                          0.34\n",
            "Component 15                          0.26\n",
            "Component 16                          0.23\n",
            "Component 17                          0.22\n",
            "Component 18                          0.14\n",
            "Component 19                          0.11\n",
            "Component 20                          0.09\n",
            "Component 21                          0.08\n",
            "Component 22                          0.07\n",
            "Component 23                          0.06\n",
            "Component 24                          0.04\n",
            "Component 25                          0.02\n",
            "Component 26                          0.02\n",
            "Component 27                          0.01\n",
            "Component 28                          0.00\n",
            "Component 29                          0.00\n"
          ]
        }
      ],
      "source": [
        "import numpy as np\n",
        "from sklearn.decomposition import PCA # import PCA from sklearn\n",
        "\n",
        "n_components = 30 # set the number of components as all columns in the data\n",
        "\n",
        "pca = PCA(n_components=n_components).fit(df_pca)  # set PCA object and fit to the data\n",
        "x_PCA = pca.transform(df_pca) # array with transformed PCA\n",
        "\n",
        "\n",
        "# the PCA object has .explained_variance_ratio_ attribute, which tells \n",
        "# how much information (variance) each component has \n",
        "# We store that to a DataFrame relating each component to its variance explanation\n",
        "ComponentsList = [\"Component \" + str(number) for number in range(n_components)]\n",
        "dfExplVarRatio = pd.DataFrame(\n",
        "    data= np.round(100 * pca.explained_variance_ratio_ ,2),\n",
        "    index=ComponentsList,\n",
        "    columns=['Explained Variance Ratio (%)'])\n",
        "\n",
        "# prints how much of the dataset these components explain (naturally, in this case, will be 100%)\n",
        "PercentageOfDataExplained = dfExplVarRatio['Explained Variance Ratio (%)'].sum()\n",
        "\n",
        "print(f\"* The {n_components} components explain {round(PercentageOfDataExplained,2)}% of the data \\n\")\n",
        "print(dfExplVarRatio)"
      ]
    },
    {
      "cell_type": "markdown",
      "metadata": {},
      "source": [
        "Now using the code from  above with changed n_components to 7.\n",
        "\n",
        "* With 7 components, we achieved a bit more than 91% of data variance."
      ]
    },
    {
      "cell_type": "code",
      "execution_count": 9,
      "metadata": {},
      "outputs": [
        {
          "name": "stdout",
          "output_type": "stream",
          "text": [
            "* The 7 components explain 91.37% of the data \n",
            "\n",
            "             Explained Variance Ratio (%)\n",
            "Component 0                         43.68\n",
            "Component 1                         18.48\n",
            "Component 2                         10.31\n",
            "Component 3                          6.72\n",
            "Component 4                          5.88\n",
            "Component 5                          3.86\n",
            "Component 6                          2.44\n"
          ]
        }
      ],
      "source": [
        "n_components = 7\n",
        "\n",
        "pca = PCA(n_components=n_components).fit(df_pca)\n",
        "x_PCA = pca.transform(df_pca) # array with transformed PCA\n",
        "\n",
        "ComponentsList = [\"Component \" + str(number) for number in range(n_components)]\n",
        "dfExplVarRatio = pd.DataFrame(\n",
        "    data= np.round(100 * pca.explained_variance_ratio_ ,2),\n",
        "    index=ComponentsList,\n",
        "    columns=['Explained Variance Ratio (%)'])\n",
        "\n",
        "PercentageOfDataExplained = dfExplVarRatio['Explained Variance Ratio (%)'].sum()\n",
        "\n",
        "print(f\"* The {n_components} components explain {round(PercentageOfDataExplained,2)}% of the data \\n\")\n",
        "print(dfExplVarRatio)"
      ]
    },
    {
      "cell_type": "markdown",
      "metadata": {},
      "source": [
        "Note that the data is transformed and stored at x_PCA. Let's check its content.\n",
        "\n",
        "* We will notice it is a NumPy array, and its dimension is 341 x 7, where the rows indicate the number of rows and seven relates to the number of components we defined earlier.\n",
        "* Imagine now that this data would be fed to a model. For this particular dataset, the ML task would be a classification.\n",
        "* Also, note that the PCA helped reduce from thirty features to seven components where these seven components contain 90% of the information."
      ]
    },
    {
      "cell_type": "code",
      "execution_count": 10,
      "metadata": {},
      "outputs": [
        {
          "name": "stdout",
          "output_type": "stream",
          "text": [
            "(341, 7)\n"
          ]
        },
        {
          "data": {
            "text/plain": [
              "array([[-3.19632096, -0.7882415 , -1.54280305, ...,  0.31482589,\n",
              "         0.25021347,  0.14958942],\n",
              "       [-2.15148256, -0.97430915,  0.45730527, ..., -0.43744131,\n",
              "        -0.18081375, -0.0783528 ],\n",
              "       [-2.81567468, -0.67506773, -0.47638179, ..., -0.0187848 ,\n",
              "         0.84195774, -0.40380846],\n",
              "       ...,\n",
              "       [13.25075397,  0.68891084,  0.36451787, ..., -1.0003148 ,\n",
              "         0.78704341,  0.10109186],\n",
              "       [ 1.2548625 ,  4.93892792, -1.0380955 , ...,  1.71789741,\n",
              "         1.0133776 ,  1.24697795],\n",
              "       [ 2.83513614,  1.09372726, -2.33467669, ..., -0.15095285,\n",
              "        -0.77420664, -0.15741655]])"
            ]
          },
          "execution_count": 10,
          "metadata": {},
          "output_type": "execute_result"
        }
      ],
      "source": [
        "print(x_PCA.shape)\n",
        "x_PCA"
      ]
    },
    {
      "cell_type": "markdown",
      "metadata": {},
      "source": [
        "### Visualise data after PCA transformation\n",
        "\n",
        "If we want to visualise data before and after applying PCA.\n",
        "\n",
        "* When faced with the task of visualizing thirty features, the complexity of the data becomes apparent. A correlation analysis can help identify features that are correlated among themselves or, in this dataset, features that are correlated to the target.\n",
        "* So, let's suppose we want to visualise the relationship between \"mean concavity\" and \"mean concave points\" and the target. Since the features are numerical, you can do a scatter plot with them and colour by the target.\n",
        "    * You will imagine/visualise the frontier between the blue and orange dots. Although that is good, the malignant and benign may look to be separable. At the same time, few data points look mingled in this frontier.\n",
        "    * However, what about the remaining variables? When you consider this dataset as a whole, is that informative enough to separate these classes?"
      ]
    },
    {
      "cell_type": "code",
      "execution_count": 11,
      "metadata": {},
      "outputs": [
        {
          "data": {
            "image/png": "[encoded data removed]",
            "text/plain": [
              "<Figure size 640x480 with 1 Axes>"
            ]
          },
          "metadata": {},
          "output_type": "display_data"
        }
      ],
      "source": [
        "var1, var2 = 'mean concavity' , 'mean concave points'\n",
        "sns.scatterplot(x=X[var1], y=X[var2], hue=df_target['diagnostic'])\n",
        "plt.xlabel(var1)\n",
        "plt.ylabel(var2)\n",
        "plt.show()"
      ]
    },
    {
      "cell_type": "markdown",
      "metadata": {},
      "source": [
        "We can plot the PCA components to evaluate, from another perspective, how the data behaves.\n",
        "\n",
        "* We know x_PCA holds the data after transformation and has seven components. We will plot in a scatterplot the most representative components: components 0 and 1."
      ]
    },
    {
      "cell_type": "code",
      "execution_count": 12,
      "metadata": {},
      "outputs": [
        {
          "data": {
            "image/png": "[encoded data removed]",
            "text/plain": [
              "<Figure size 640x480 with 1 Axes>"
            ]
          },
          "metadata": {},
          "output_type": "display_data"
        }
      ],
      "source": [
        "sns.scatterplot(x=x_PCA[:,0], y=x_PCA[:,1])\n",
        "plt.xlabel('Component 0')\n",
        "plt.ylabel('Component 1')\n",
        "plt.show()"
      ]
    },
    {
      "cell_type": "markdown",
      "metadata": {},
      "source": [
        "We know that these two components hold by themselves 62% of the information (data variance).\n",
        "\n",
        "* The power of this approach lies in the fact that with just two variables (two components), we gain a clearer understanding of the dataset, providing us with sufficient information to distinguish between malignant and benign cases.\n",
        "* We enhance the plot's clarity by using df_target as the hue argument to colour the plot according to the diagnostic categories.\n",
        "    * Note we see a clearer border between 0 and 1.\n",
        "    * In a nutshell, we have the same data, showing the same information. The difference now is that the data was reduced to its major components.\n",
        "    * The drawback is that we lose the interpretation since component 0 is made of a combination of the original variables."
      ]
    },
    {
      "cell_type": "code",
      "execution_count": 13,
      "metadata": {},
      "outputs": [
        {
          "data": {
            "image/png": "[encoded data removed]",
            "text/plain": [
              "<Figure size 640x480 with 1 Axes>"
            ]
          },
          "metadata": {},
          "output_type": "display_data"
        }
      ],
      "source": [
        "sns.scatterplot(x=x_PCA[:,0], y=x_PCA[:,1], hue=df_target['diagnostic'], alpha=0.8)\n",
        "plt.xlabel('Component 0')\n",
        "plt.ylabel('Component 1')\n",
        "plt.show()"
      ]
    },
    {
      "cell_type": "markdown",
      "metadata": {},
      "source": [
        "Naturally, we can plot more components. In this exercise, we can plot three components in a 3D scatter plot using Plotly Express\n",
        "  * Move around the 3D plot and try to visualise if you could draw a surface that would separate the dots. The surface you imagined is an ML model.\n",
        "  * It's worth noting again that these three components, when plotted, alone hold a significant 72% of all information from the dataset. This is a powerful tool for diagnosing malignant or benign conditions, demonstrating the real-world relevance of our exercise."
      ]
    },
    {
      "cell_type": "code",
      "execution_count": 14,
      "metadata": {},
      "outputs": [
        {
          "data": {
            "application/vnd.plotly.v1+json": {
              "config": {
                "plotlyServerURL": "https://plot.ly"
              },
              "data": [
                {
                  "hovertemplate": "Component 0=%{x}<br>Component 1=%{y}<br>Component 2=%{z}<br>color=%{marker.color}<extra></extra>",
                  "legendgroup": "",
                  "marker": {
                    "color": [
                      1,
                      1,
                      1,
                      0,
                      1,
                      1,
                      1,
                      0,
                      1,
                      1,
                      0,
                      1,
                      1,
                      1,
                      0,
                      1,
                      1,
                      1,
                      0,
                      0,
                      1,
                      1,
                      1,
                      1,
                      0,
                      1,
                      0,
                      1,
                      0,
                      0,
                      1,
                      0,
                      1,
                      0,
                      1,
                      1,
                      0,
                      0,
                      0,
                      0,
                      0,
                      1,
                      1,
                      1,
                      1,
                      1,
                      0,
                      1,
                      0,
                      1,
                      0,
                      1,
                      1,
                      0,
                      1,
                      1,
                      0,
                      0,
                      1,
                      1,
                      0,
                      0,
                      1,
                      1,
                      0,
                      1,
                      1,
                      0,
                      0,
                      1,
                      0,
                      1,
                      1,
                      1,
                      0,
                      0,
                      1,
                      0,
                      0,
                      1,
                      1,
                      1,
                      1,
                      1,
                      1,
                      1,
                      0,
                      1,
                      0,
                      0,
                      1,
                      0,
                      0,
                      1,
                      1,
                      1,
                      1,
                      1,
                      0,
                      0,
                      0,
                      1,
                      1,
                      1,
                      1,
                      1,
                      1,
                      1,
                      1,
                      1,
                      1,
                      1,
                      1,
                      0,
                      1,
                      1,
                      1,
                      0,
                      0,
                      0,
                      0,
                      0,
                      0,
                      1,
                      1,
                      1,
                      1,
                      1,
                      1,
                      1,
                      0,
                      0,
                      1,
                      1,
                      1,
                      1,
                      0,
                      0,
                      0,
                      1,
                      0,
                      1,
                      0,
                      1,
                      1,
                      1,
                      1,
                      1,
                      1,
                      1,
                      1,
                      0,
                      0,
                      0,
                      1,
                      0,
                      1,
                      0,
                      1,
                      1,
                      0,
                      1,
                      1,
                      0,
                      0,
                      0,
                      1,
                      1,
                      1,
                      0,
                      0,
                      1,
                      1,
                      0,
                      0,
                      1,
                      1,
                      1,
                      1,
                      1,
                      1,
                      0,
                      0,
                      1,
                      1,
                      1,
                      0,
                      1,
                      0,
                      0,
                      1,
                      0,
                      1,
                      1,
                      1,
                      1,
                      1,
                      1,
                      0,
                      1,
                      1,
                      1,
                      0,
                      1,
                      1,
                      0,
                      1,
                      0,
                      0,
                      0,
                      0,
                      1,
                      1,
                      1,
                      1,
                      1,
                      1,
                      1,
                      1,
                      1,
                      1,
                      1,
                      1,
                      0,
                      0,
                      1,
                      1,
                      1,
                      1,
                      1,
                      0,
                      0,
                      0,
                      1,
                      1,
                      1,
                      0,
                      1,
                      1,
                      1,
                      1,
                      1,
                      0,
                      0,
                      0,
                      1,
                      1,
                      0,
                      0,
                      1,
                      1,
                      0,
                      0,
                      0,
                      0,
                      0,
                      0,
                      1,
                      1,
                      0,
                      1,
                      1,
                      1,
                      1,
                      1,
                      0,
                      0,
                      0,
                      0,
                      1,
                      0,
                      1,
                      1,
                      1,
                      0,
                      1,
                      1,
                      1,
                      1,
                      0,
                      1,
                      1,
                      1,
                      0,
                      0,
                      0,
                      0,
                      1,
                      0,
                      0,
                      0,
                      1,
                      1,
                      0,
                      1,
                      1,
                      1,
                      1,
                      0,
                      1,
                      0,
                      0,
                      0,
                      1,
                      0,
                      1,
                      1,
                      1,
                      1,
                      0,
                      1,
                      1,
                      1,
                      1,
                      0,
                      1,
                      0,
                      1,
                      0,
                      1,
                      0,
                      1,
                      0,
                      1,
                      1,
                      0,
                      1,
                      0,
                      1,
                      1,
                      0,
                      1,
                      1,
                      1,
                      0,
                      1,
                      1,
                      0,
                      0,
                      1,
                      0
                    ],
                    "coloraxis": "coloraxis",
                    "size": 5,
                    "symbol": "circle"
                  },
                  "mode": "markers",
                  "name": "",
                  "scene": "scene",
                  "showlegend": false,
                  "type": "scatter3d",
                  "x": [
                    -3.196320962083765,
                    -2.1514825566210605,
                    -2.8156746758054823,
                    1.2731022559952494,
                    -4.005189569520167,
                    -3.4283943061270765,
                    -2.8454970998417872,
                    8.911957918349232,
                    -2.3964970515026947,
                    -2.2775433673676906,
                    5.285508290051384,
                    -2.6549908814177785,
                    -0.8434246212558254,
                    -3.8966836765176263,
                    4.060180973241146,
                    -2.7151252980248186,
                    -2.3979436134472447,
                    -0.9064415404293825,
                    5.029381052513049,
                    -0.6920031668098043,
                    -2.3536822200764553,
                    -4.198709972673495,
                    -2.260484807427993,
                    -2.5815359279239622,
                    5.099550260312877,
                    -2.1921076660976437,
                    3.702278753350009,
                    -4.981128175361157,
                    5.010177921259053,
                    3.821464783224872,
                    1.1187067795697374,
                    3.2098706321126063,
                    -0.5691839013496255,
                    -0.9445503277166343,
                    -4.527758801060155,
                    -3.2530141937048875,
                    0.27054922408505416,
                    0.6983597883230983,
                    3.2987114603450265,
                    4.977862912609802,
                    1.577510129655367,
                    -3.0040544095976163,
                    -3.9707664898649493,
                    -1.2619544440584243,
                    -4.792247261361184,
                    -3.007449669695419,
                    5.56301043823448,
                    -0.9533624897208041,
                    2.524383622024675,
                    -4.2416394827052315,
                    2.693172093527363,
                    -1.9899268043732936,
                    -3.2335539073274138,
                    10.54360608267456,
                    -3.4299626572927426,
                    -3.023375367057122,
                    4.599256966245896,
                    7.258498640112025,
                    -1.1840119350028973,
                    -4.140833616314261,
                    3.1360807408268387,
                    0.3736639575256116,
                    -2.359319694721348,
                    -3.2367247473586143,
                    6.423298212893338,
                    -1.5970694275279986,
                    -1.5987089212885512,
                    9.378420468049256,
                    3.8882171989406076,
                    -2.631737738868537,
                    3.801682599471008,
                    -4.859781448105555,
                    -4.245835377661126,
                    -3.5518308003735655,
                    3.2580626622518993,
                    7.742734352362804,
                    -2.471674232394044,
                    3.1050690976558406,
                    5.757841643367463,
                    -0.523166668908708,
                    -0.30111106523882364,
                    -0.6218754956980223,
                    2.948083867933963,
                    -2.953000009684334,
                    -2.1672748822397745,
                    -3.6553663078792287,
                    2.9533613245164005,
                    -3.0233046950754425,
                    3.4656648785504753,
                    -0.8326938574813536,
                    0.2778595516682044,
                    -0.5463911606582657,
                    1.66246599718583,
                    -0.8846728861666231,
                    -2.834430355554693,
                    -4.190939625230773,
                    -3.6607623924279764,
                    1.3046514855878077,
                    4.73206170509947,
                    8.194937693652815,
                    2.5607484538733467,
                    -4.410712127015747,
                    -1.5042542675470159,
                    -3.8154851504996596,
                    -2.1004471294445985,
                    -1.840083467915742,
                    2.1613565290840238,
                    -2.749182191875277,
                    -2.3461468827845087,
                    -1.366545093352163,
                    -4.203554676623236,
                    -2.172362390430177,
                    -1.598895927638392,
                    1.855485383757747,
                    -0.6592528361239952,
                    -1.9722312028690259,
                    -3.3902867753731845,
                    -0.30288912331947176,
                    0.1648567944832622,
                    4.950034469053427,
                    12.443934943138009,
                    5.0398759934879145,
                    4.016775305855704,
                    -3.484835485291063,
                    1.1674701625336,
                    -2.4737663621736337,
                    0.1579255318477141,
                    -1.4232175134186444,
                    -1.3083002917972222,
                    -1.791788847501106,
                    9.17491628104283,
                    6.127404168588511,
                    -0.8787863519889477,
                    -0.6403660207896044,
                    -3.6428246513437816,
                    -0.529820602773714,
                    3.6599450402486515,
                    1.7990677277336993,
                    4.703594499051328,
                    -2.3811895896113984,
                    5.9113091255574215,
                    0.5653536252396411,
                    6.029378191988579,
                    -2.9409022806860614,
                    -2.9799498383834075,
                    -1.6649690530984131,
                    -0.8822611946511315,
                    -4.6587072396254126,
                    -1.4437975148557225,
                    -2.6402483888240793,
                    -1.81058864141547,
                    0.3011803551085283,
                    -1.0598717832571098,
                    4.413649342017804,
                    1.2834532203495341,
                    3.4016900206693235,
                    -1.6206142334226483,
                    3.0763960070071796,
                    -3.314154879917347,
                    -0.25351192197457084,
                    0.45096273625852246,
                    -1.278182408068456,
                    -4.023088521373417,
                    7.39988842471573,
                    1.8383693933513414,
                    -1.1915551821124466,
                    -2.157921000420565,
                    -1.9981097927185583,
                    -3.794172768533216,
                    0.11464759596321968,
                    -2.533849082018789,
                    -5.191598522760987,
                    1.9363546766095843,
                    2.173115639610926,
                    -0.8477560885102444,
                    -4.031758352646448,
                    -1.4419086705932114,
                    -2.9509749557872094,
                    -3.43180936841427,
                    -3.063121372031069,
                    -1.7517920007256875,
                    -0.1435444425251912,
                    2.656601569427308,
                    -2.893127029014733,
                    -4.549759890565626,
                    -3.2955413844894603,
                    4.1707891746937795,
                    -2.4697969812247504,
                    0.961705276730153,
                    1.2294227136777518,
                    -2.206602375996644,
                    1.7222076957707981,
                    -2.3058840245292322,
                    -2.2429111594736835,
                    -2.6697463779808652,
                    -0.1740306362215196,
                    -1.9481789630024122,
                    -4.803709366615434,
                    4.347448126991652,
                    -3.3018095152656035,
                    -0.5214535157851495,
                    1.4546893267518952,
                    3.3315412803338997,
                    -3.1581890299921644,
                    -2.781529621373732,
                    6.4337633456046674,
                    -3.3256879500988137,
                    1.3170901224626026,
                    -0.35846668340411936,
                    3.343998665402382,
                    -2.0398915976233973,
                    -2.9448667351630577,
                    -2.3051104175908814,
                    -2.0355563731539372,
                    -2.5939772043126608,
                    -2.079226095572574,
                    0.22919828551279137,
                    -0.5336037564321628,
                    -1.066207413473392,
                    -3.481174851265217,
                    -2.3897230513992365,
                    -1.2475202063596977,
                    -0.8217830193014743,
                    6.2464687781994765,
                    1.7659158872844292,
                    -0.6921118448800462,
                    1.0111901908774845,
                    -3.089563887076058,
                    -3.0444983260827287,
                    -2.503712184884221,
                    4.117109228144061,
                    3.4560708153889594,
                    0.16822143944302342,
                    -5.522279988227109,
                    -2.554674650585677,
                    -3.6965323785059185,
                    11.150048886510211,
                    -4.228296538399324,
                    -2.697975254445554,
                    -1.33026987647174,
                    -3.1634855058101357,
                    -0.7005722914438836,
                    8.522900927190264,
                    4.487607626064075,
                    2.2271903804084663,
                    -4.3347104250637605,
                    -3.9070105466247007,
                    3.268535454980009,
                    2.0568841513152565,
                    -1.3949003689577644,
                    -0.2655138716368569,
                    0.49935971263843354,
                    -0.43803341516950434,
                    4.0935794577016615,
                    2.6178818660020817,
                    5.062777121320871,
                    2.142403822441456,
                    -2.4841901341460164,
                    0.05452355291200774,
                    6.7386842859180245,
                    -2.0947596193865734,
                    -1.3183579260248308,
                    -1.948961085494002,
                    -2.763118348115908,
                    -0.8476753402833715,
                    3.754093553467507,
                    1.2775511210796175,
                    6.460782313672423,
                    6.218172425852301,
                    -2.5197237291900203,
                    5.545082660698943,
                    6.823900624836203,
                    1.8584782151011594,
                    -2.3696537111237803,
                    3.3075680669164784,
                    -4.218914116308395,
                    -2.1040477365530554,
                    -3.390210745370836,
                    -2.8525952174165994,
                    5.4129524056438925,
                    -3.5169121250779067,
                    3.449548386172871,
                    -1.7231177100464277,
                    -0.10862761930686313,
                    -0.7167278783830937,
                    11.863238958357282,
                    1.1268318493569913,
                    -3.129880871357459,
                    2.789902217435246,
                    3.518572494957599,
                    2.1548358016932734,
                    -0.4971374860572415,
                    -2.8059005549601426,
                    1.651899198595996,
                    -3.626312143394577,
                    -3.6106457113361743,
                    -5.073944616323482,
                    -0.8096735522028913,
                    4.897262596969011,
                    -3.350353642845991,
                    3.3885512956027597,
                    4.555378300641508,
                    3.7222914769075244,
                    -3.8158137592121992,
                    4.73300198647765,
                    -1.6639363247579497,
                    -3.139694597126317,
                    -2.4322258414232283,
                    -3.5939622413417553,
                    6.379673020280665,
                    -0.8579282749169272,
                    -2.5580213481600684,
                    -0.9933581613549722,
                    -4.283025654283939,
                    0.8061910811313215,
                    -2.7487040695917564,
                    3.7899795415195876,
                    -3.206057037850628,
                    7.144122614339239,
                    -3.6933878450814945,
                    -2.104721258286367,
                    -1.2807704616969615,
                    -1.0569213003238713,
                    0.8895352222418231,
                    -3.295443260081039,
                    4.638497362462086,
                    -2.380063418578809,
                    0.7046047908157186,
                    -4.85244629039819,
                    -2.530822220452338,
                    7.32370187807051,
                    0.28551412396334647,
                    -3.473691404893355,
                    -2.3000190249083023,
                    3.308224824814019,
                    -3.4452861465723386,
                    -4.872544604614351,
                    2.906715676959406,
                    13.250753965457168,
                    1.254862497030822,
                    2.8351361402856137
                  ],
                  "y": [
                    -0.7882415000770612,
                    -0.9743091517204069,
                    -0.6750677286160001,
                    -1.27086319094996,
                    -0.8074107006537955,
                    -1.3809207240969832,
                    3.0738660458326517,
                    -1.0010234238303093,
                    0.038685946106708315,
                    1.7261255376677067,
                    3.7603872278846167,
                    0.018120661094268936,
                    1.9315415832771092,
                    -1.6091940074312534,
                    -0.30898177647392083,
                    2.778597687280394,
                    -0.45379474235732986,
                    3.4042030501969838,
                    -1.7850179210889492,
                    -1.0789960354755948,
                    0.7916329550251938,
                    0.5556278488730982,
                    0.13790146690412428,
                    0.5906816628810662,
                    0.9211335424125711,
                    -0.49203723875987504,
                    0.8817344322145283,
                    -0.32743993697700086,
                    2.272909098709319,
                    5.789305338382551,
                    2.4532965593814975,
                    3.2115375258540046,
                    0.27051961632657023,
                    -3.3984794898190542,
                    -1.8169724740792006,
                    0.47478801878472915,
                    -3.067940123916866,
                    0.872874153094058,
                    -3.907133355178247,
                    -4.223016777187085,
                    -2.1360878745447316,
                    -0.2610943712778735,
                    -0.6959390527237553,
                    -1.381771013158144,
                    -0.03173994617909885,
                    0.2028028994518417,
                    0.7855095420585803,
                    -1.267644379715521,
                    1.6345851799036921,
                    -1.2136033637652193,
                    -2.055441501804736,
                    -1.23574565607428,
                    -1.951140461520127,
                    1.4290496614877848,
                    0.2764297344283066,
                    -0.3922799372327298,
                    0.23694694240436517,
                    0.009626512926492721,
                    1.1297928004800049,
                    -1.822254817636331,
                    1.3801350484575405,
                    0.36485907273075857,
                    -0.31683280029833905,
                    0.06286650695783347,
                    -1.8603135508256625,
                    -0.024511047060346732,
                    0.25079014946247313,
                    1.5041873133335606,
                    -2.0129685401407222,
                    -0.9816053507807162,
                    -2.0936034468923848,
                    -2.914174176501887,
                    -1.0355968974013945,
                    -0.9381330923177326,
                    -2.9040179272501887,
                    -3.1593729408265037,
                    -0.8621809743786971,
                    3.0458008462793082,
                    -1.2801172495466133,
                    -0.7835268109831462,
                    1.4785914904534727,
                    0.05988426842112392,
                    4.567082923542394,
                    0.4068512505003712,
                    -0.8067344325807244,
                    1.8988837207512084,
                    3.7823878873036514,
                    -0.15347210220483917,
                    -1.70331361468569,
                    -2.6229183026101577,
                    1.2570198455159052,
                    -1.2093913510145557,
                    1.51883648115285,
                    0.7104304480840112,
                    1.595461957349107,
                    1.28380245647694,
                    -2.436266697078673,
                    1.3499716614340282,
                    3.101572338567677,
                    2.9424790027020014,
                    -3.8957287804719054,
                    0.33241900506755334,
                    1.497023645174646,
                    4.520791210788488,
                    -0.047953455071504794,
                    1.063656506547307,
                    4.554662967219251,
                    -1.6386307862756335,
                    -1.7334592076832593,
                    -0.18350026136258793,
                    -0.2589786904103686,
                    1.5547622024881986,
                    -1.397959147839893,
                    -2.5075910062337448,
                    -0.8184590270913888,
                    1.342899152378793,
                    -0.9546614088097662,
                    -0.8234214075710194,
                    -1.5243399905346198,
                    -2.95282006921688,
                    -7.647181990076806,
                    -1.366954575705402,
                    -2.9750100115949745,
                    0.03517930223666918,
                    0.9804685839491734,
                    2.719067036805004,
                    4.0904448778579905,
                    3.6514599372794434,
                    -1.6502547598074466,
                    -0.05771329925866598,
                    0.21043280473674217,
                    -0.8664190427830689,
                    -2.8253511052729587,
                    1.2374947809124353,
                    -1.979710251763224,
                    2.4075838243375474,
                    -2.073074705101143,
                    0.6858085585300923,
                    -2.526779119122851,
                    4.12521953277357,
                    1.3665336972669768,
                    3.5751436658180054,
                    -0.1227683865919448,
                    -1.6231876774737533,
                    -0.9876551404665227,
                    -1.1170900826727068,
                    -2.019013391474276,
                    -1.639007542410675,
                    -1.638406497653241,
                    -1.2829901292765054,
                    0.9346068105223937,
                    -3.6868473524890057,
                    -1.5885303733502714,
                    -2.2430719851500047,
                    7.663898571129475,
                    -3.5034946290493028,
                    1.8452872319273441,
                    -1.3042027187427567,
                    0.45547902671244406,
                    2.589857694336968,
                    0.5617959343770462,
                    2.175470606656132,
                    1.3783029616194014,
                    -0.5331047335874227,
                    -3.503641698325312,
                    -2.8584966461893457,
                    0.9509908221877043,
                    -0.8580166925466018,
                    0.8227701180976561,
                    -0.41024016892037457,
                    -0.47363807406660324,
                    -3.0977939600266633,
                    2.380532262921155,
                    0.8958882524437625,
                    -1.7868340934159188,
                    0.7647082379177165,
                    1.0959783852635578,
                    -2.06440518849573,
                    -0.8179300016292067,
                    -0.32530146795911524,
                    1.3397817232540083,
                    2.334238886193768,
                    -4.453715505381918,
                    0.8739660273836476,
                    -0.6401759641882354,
                    -0.6381199672724118,
                    0.7081711369116666,
                    0.6284559597161599,
                    0.8849949365499205,
                    0.8940626167669227,
                    -2.4337232715741655,
                    -0.32802942940633456,
                    0.9924263489488504,
                    2.0512368148206113,
                    0.13805450645837886,
                    -0.23967104596293762,
                    -0.1156640688737168,
                    -2.537084124948425,
                    -4.064150061552873,
                    -0.8680108256282588,
                    -0.6059447505917409,
                    6.800790500396654,
                    -1.199569291140195,
                    -2.6141291545913092,
                    -0.552516697514534,
                    -3.5327383891386415,
                    -1.5207458949725658,
                    -1.2099358624109036,
                    -0.20354115639255582,
                    -1.3895086068371754,
                    -3.0140139669966275,
                    -0.8784742438745661,
                    0.0986182904085711,
                    -1.3813831098232479,
                    -0.30742526910278617,
                    2.705769868432898,
                    1.8306571999138983,
                    -0.34423146067240756,
                    0.86153817395082,
                    2.722165727097407,
                    -1.1375009091207369,
                    -1.9843953047043275,
                    -1.568105882386835,
                    -2.2693874691216567,
                    -4.414486665066749,
                    4.02328647781562,
                    7.365334833266338,
                    1.8870175597137027,
                    0.4934670522478213,
                    -0.7014609736793874,
                    2.817685402890472,
                    -2.375299620291724,
                    -0.8230260900762542,
                    1.1626138321018895,
                    0.0918892073695259,
                    2.832056151301934,
                    -4.186638173420571,
                    -1.1029818082245875,
                    0.8557959056673655,
                    -1.3627059925295093,
                    -0.24134923615168705,
                    1.898991266559031,
                    -4.3758942870772035,
                    1.2210485893620513,
                    -0.3862036376026099,
                    2.5817020740543546,
                    0.3129578822241901,
                    -0.288418130836791,
                    0.41596871468524327,
                    1.2646392752138262,
                    1.1406412632221883,
                    0.36452052623408343,
                    0.1104681821628417,
                    2.8828923422328425,
                    0.5454404317170263,
                    -1.659185588516913,
                    2.3126453860781595,
                    0.9591212722726876,
                    -0.3505848165561137,
                    -6.10175075047458,
                    -0.8384486575676425,
                    5.938118852935037,
                    2.6572510025830756,
                    -1.1193405055132017,
                    1.967387019920178,
                    2.2857553067058656,
                    2.1022288355570153,
                    7.593805149813812,
                    4.921626868697488,
                    1.065604324697876,
                    -4.429402090216441,
                    13.12203654998233,
                    6.784200012483266,
                    -1.1823294567000207,
                    -1.4576639349598706,
                    1.295059445061179,
                    -1.737815900644389,
                    1.4679055065157833,
                    -0.07873286969728545,
                    -0.3933964705506199,
                    -0.4347767729957442,
                    4.244926567261423,
                    -1.4768360766051862,
                    -3.4372404616031385,
                    -0.8892598209769615,
                    4.321781039906873,
                    -1.9788066366127737,
                    -0.4790378853506911,
                    3.32904713837444,
                    -4.018026971555367,
                    -2.8807703650748913,
                    0.21906469929820413,
                    -1.471474564395313,
                    -1.562973040069558,
                    -2.295895937637923,
                    -1.1845264103405482,
                    -2.1268064877424853,
                    -0.706219788911372,
                    3.0716550571388255,
                    -1.8339139037362984,
                    -2.435007337423018,
                    -0.9620302715664671,
                    1.0158748966151696,
                    -0.5861967660749051,
                    -2.9853779823787057,
                    0.5398479483273215,
                    0.5225922835406511,
                    -2.3332655734819783,
                    1.43014767586176,
                    1.8096398759359151,
                    -0.09650607601560966,
                    3.733620612337147,
                    2.2498984841264087,
                    -0.09264449915809728,
                    -2.5429491711269447,
                    -2.2601037707040965,
                    -3.4166869234384936,
                    -0.5119163516824473,
                    0.36476697280188514,
                    2.1363504482154423,
                    -0.25450154449482926,
                    -0.48643822292581734,
                    -1.9577630616650417,
                    2.443020808375774,
                    -1.6479520625975288,
                    0.03526372457028101,
                    2.317911523403224,
                    -1.6515594909351183,
                    -0.5694116663076837,
                    -1.3909836758236227,
                    -3.8368411102787916,
                    3.679855132878775,
                    -3.0114491486032358,
                    1.795566752112655,
                    -1.8137368603052555,
                    0.31534057626418777,
                    -0.9699563760531451,
                    0.7385495425967529,
                    0.688910843614781,
                    4.93892791976169,
                    1.0937272649565632
                  ],
                  "z": [
                    -1.5428030504436376,
                    0.4573052696974634,
                    -0.4763817851953303,
                    0.6080926843613813,
                    3.1844452160753143,
                    -0.5204001601000424,
                    -1.8359655378111308,
                    0.4359296862735128,
                    -0.5483145828507197,
                    -1.295042937988829,
                    -1.2595987479800075,
                    1.7493745513232146,
                    -0.8012844311651758,
                    1.3895530808533285,
                    1.4292306400475643,
                    2.1052838544163586,
                    0.4206845360628729,
                    1.2369840128722895,
                    -1.7926159792796361,
                    1.0913433089433848,
                    -1.206875473137517,
                    3.1506277459778054,
                    -1.5671342998208377,
                    -1.2863078498610754,
                    2.6405984144885832,
                    2.8623237962455588,
                    3.503155041327951,
                    0.9983402010827145,
                    -2.22314644958407,
                    -5.527757539291871,
                    -2.1740256065349484,
                    -3.5766930293658947,
                    -0.5365797433761555,
                    0.44063826511550386,
                    -0.02792282765466373,
                    2.018789039486246,
                    0.12215886724732825,
                    -2.799693703471906,
                    0.12999176572776885,
                    -0.061575153419192945,
                    -0.8190789609871872,
                    -0.33901729320512997,
                    0.4973817335618317,
                    -0.48449377070698924,
                    1.5042678257642546,
                    0.3343385961118378,
                    -2.3410224371853925,
                    0.2688793711456192,
                    -0.33722078256893595,
                    0.6282217364702202,
                    -0.8896789115126258,
                    0.9509824553232331,
                    -0.10654711603624868,
                    -2.131135477052634,
                    0.45029410777708007,
                    -0.498319747704512,
                    -0.9304861997478645,
                    1.9300206028514098,
                    2.381066330197886,
                    0.8653874493447324,
                    -2.893722256142763,
                    -1.1177912141098538,
                    -1.146851905756923,
                    0.6569828197063784,
                    0.5878751365079233,
                    -1.0696385105431099,
                    -0.3018676154520755,
                    -1.4878754016704339,
                    1.5440524529354436,
                    0.41064650995681146,
                    -1.6875557037883344,
                    0.20243969371056447,
                    0.6956733471208868,
                    0.24125957176256074,
                    3.266244370862655,
                    1.6871194876337037,
                    -1.051134645241347,
                    7.06518210564163,
                    -0.5452627198480215,
                    -1.0672606189312566,
                    -2.3894031034175645,
                    1.066847126608749,
                    5.682996903581108,
                    -1.4172384801379139,
                    1.4438936676346055,
                    2.582816460502362,
                    -3.5000017050230157,
                    -0.523357712755059,
                    0.8797014325907024,
                    -1.893992803957011,
                    2.228861040392345,
                    -0.020508861842260157,
                    -2.0610221819186876,
                    -0.7763388451209539,
                    0.7758333295652248,
                    0.18651347837658175,
                    0.13283413866122468,
                    0.515761522676725,
                    -0.4514527002136599,
                    5.549924560996234,
                    1.7233955103286998,
                    -0.4149927251943625,
                    -0.5747784038075584,
                    3.480661168848786,
                    0.35070106323447336,
                    -0.25410890064859715,
                    1.478582879203848,
                    0.8919814512689211,
                    -0.29560909289028936,
                    -0.6426206921397087,
                    -1.361179513924313,
                    1.002636725304586,
                    0.4578904508073779,
                    -1.526712515758199,
                    -0.22690930876294033,
                    -1.2663560027848304,
                    0.376798534450679,
                    -2.2606751090614923,
                    -0.7584987393363796,
                    1.051222140382204,
                    10.6344552681211,
                    -2.5574244000071187,
                    1.842258375022139,
                    -0.35330305328971306,
                    -0.21529166216124848,
                    0.8208960569504594,
                    4.314915188154346,
                    0.8298445675886492,
                    -0.58749414159695,
                    -0.12338734444297982,
                    -3.2916630821084896,
                    -0.4076125653089856,
                    1.7027447499467725,
                    -1.0576217312849776,
                    0.3943795704266251,
                    0.40272922644436676,
                    -0.6508872238418281,
                    -1.6439024272660634,
                    -0.6797878217611064,
                    3.4522027807744196,
                    1.699952420713218,
                    0.24155394036038522,
                    1.5731836829394141,
                    -0.5982786349597622,
                    -1.4654296308144328,
                    -1.2912313572719396,
                    0.47746437711575573,
                    -0.7594184821372153,
                    0.5070294702726326,
                    -0.20779768308790653,
                    -1.1422478133429845,
                    -1.9787343582298997,
                    -0.2942090483702168,
                    0.6809405093768713,
                    -1.451134127181613,
                    -1.5788923574967326,
                    0.9937305618153046,
                    1.3036219100126525,
                    -1.1876537061340233,
                    1.9590803794696905,
                    -0.5080909324365577,
                    1.784555889312203,
                    1.7229047805806175,
                    -3.073713611377916,
                    1.516834428077138,
                    4.541292363641153,
                    0.005249405155350978,
                    -0.8660012719195783,
                    -1.2963560722132603,
                    0.6537357057808698,
                    2.0163716234981637,
                    0.7494312892254616,
                    1.017385045098699,
                    -2.11559007548097,
                    -0.13246327670444424,
                    0.868014445477257,
                    1.125381003052685,
                    0.1645848713236614,
                    0.2606961971803264,
                    -1.0592695937896912,
                    1.2750950728854502,
                    -2.226528684146545,
                    0.622024059433535,
                    1.772037727127141,
                    -0.39815877931522664,
                    -0.8413393901183164,
                    -1.057687012580164,
                    0.1653723947004576,
                    -2.512556487882846,
                    -1.7077003759350498,
                    -1.2314249557393206,
                    -1.7248219321545952,
                    -0.4097813104473955,
                    1.7243255295290734,
                    -0.5777436456061581,
                    -1.6831697859575339,
                    -1.5091464822458602,
                    1.2044262746555763,
                    0.11889952561373751,
                    -2.1829126206954377,
                    -1.3007554663886118,
                    1.6445828999316765,
                    0.8295546762190658,
                    0.06369193128148591,
                    -0.5549635406731201,
                    2.713663911556098,
                    -0.31787255029074546,
                    -1.2477366104942207,
                    -3.3925649244519476,
                    0.756476821569393,
                    -0.8230202585893147,
                    0.9127539012487693,
                    -0.04161599738608652,
                    1.4038750533009468,
                    -1.50482718093018,
                    -1.2293798234151025,
                    2.691093976523124,
                    -1.0276841659686677,
                    -1.0505642225964689,
                    -2.0654235577769477,
                    -0.12189001030001455,
                    -1.1051120643996686,
                    -0.5674218253035792,
                    -1.5284163801418351,
                    0.6376485166642822,
                    1.762114269979631,
                    3.8271748707619317,
                    -0.4561889567490336,
                    -1.0029078332627623,
                    -1.4500640440173216,
                    -3.495307755730136,
                    -1.0892434791576122,
                    1.8168498618245115,
                    0.19520431510620936,
                    -0.8550039058311235,
                    1.5070533321256037,
                    -0.709063365881868,
                    -0.2674796782731319,
                    -0.7324043985381882,
                    -0.836737117934158,
                    -0.5753624748072139,
                    1.2469768450802765,
                    0.28567647140905084,
                    -2.5411057925204426,
                    -1.1446095707791677,
                    1.046464246465191,
                    -0.1859166211058117,
                    -2.9822348819963542,
                    0.7977073132576146,
                    0.14893794642406985,
                    -0.8320303886198569,
                    1.5687949886372157,
                    -2.0692534611425994,
                    -0.7672112360155519,
                    -2.0485072183177304,
                    1.2778623749742308,
                    -1.1910499662490186,
                    1.0497401601661014,
                    -0.43695689545331984,
                    1.313626076794506,
                    -0.05751743577360133,
                    0.8363424252796777,
                    1.615348689420712,
                    -1.1917547149126253,
                    0.9527279678687876,
                    -0.15645300308552582,
                    -2.0315762153275916,
                    -5.0028442479291435,
                    0.06412788994256677,
                    -0.7953139528826936,
                    -0.29070579148589654,
                    6.553762721005401,
                    0.8860662973101742,
                    -0.8287507053468361,
                    1.406067399867137,
                    0.05808195439370039,
                    -0.16550051236319496,
                    -0.3493251085221226,
                    -0.3557094586222781,
                    -1.757462437328262,
                    -0.18713972826949526,
                    1.9182608103656738,
                    0.43183063445316733,
                    0.6004242454444079,
                    -2.176714085191525,
                    1.4586223642125153,
                    1.111874741585496,
                    -0.5485824544283786,
                    -1.1510451845327792,
                    -0.7607960075867927,
                    -0.41900626003738967,
                    -0.9973911143329776,
                    -1.667171351495612,
                    0.24617709580151376,
                    0.27710541922743553,
                    -0.011094137701217737,
                    0.051469614732545424,
                    1.382011215399837,
                    -1.9632689916598687,
                    0.20697193399621805,
                    -1.041160122526687,
                    -0.47619176604298,
                    -3.7259665283907815,
                    -0.8730317772013978,
                    2.9862994839112478,
                    -1.9308529999047421,
                    1.1438678918713419,
                    -0.6165453172145585,
                    -0.24489413598611123,
                    -3.433454930026352,
                    -1.17177761935806,
                    3.1803035828717254,
                    -1.9039870940471981,
                    0.6561305138332306,
                    0.6347066250629153,
                    0.3889641995708579,
                    2.3465362462743125,
                    0.30006833997776444,
                    -1.3117584681535281,
                    2.6352486954995245,
                    -0.39060879389692454,
                    -0.4674158659140632,
                    1.5431451150246904,
                    -1.7192898933669358,
                    0.11340902222901346,
                    3.809189461584924,
                    2.1720822282366283,
                    -1.4622270237042676,
                    0.27375907958287354,
                    0.5095081048229415,
                    0.07651366687266906,
                    -0.3309268473007155,
                    0.3869394478062476,
                    0.05817107027227941,
                    0.16040122645047372,
                    -0.7005719215314545,
                    -0.19346032674562083,
                    -1.0975793205116977,
                    0.36451786644671774,
                    -1.0380955018004885,
                    -2.3346766861005115
                  ]
                }
              ],
              "layout": {
                "coloraxis": {
                  "colorbar": {
                    "title": {
                      "text": "color"
                    }
                  },
                  "colorscale": [
                    [
                      0,
                      "rgb(158,1,66)"
                    ],
                    [
                      0.1,
                      "rgb(213,62,79)"
                    ],
                    [
                      0.2,
                      "rgb(244,109,67)"
                    ],
                    [
                      0.3,
                      "rgb(253,174,97)"
                    ],
                    [
                      0.4,
                      "rgb(254,224,139)"
                    ],
                    [
                      0.5,
                      "rgb(255,255,191)"
                    ],
                    [
                      0.6,
                      "rgb(230,245,152)"
                    ],
                    [
                      0.7,
                      "rgb(171,221,164)"
                    ],
                    [
                      0.8,
                      "rgb(102,194,165)"
                    ],
                    [
                      0.9,
                      "rgb(50,136,189)"
                    ],
                    [
                      1,
                      "rgb(94,79,162)"
                    ]
                  ]
                },
                "height": 500,
                "legend": {
                  "tracegroupgap": 0
                },
                "margin": {
                  "t": 60
                },
                "scene": {
                  "domain": {
                    "x": [
                      0,
                      1
                    ],
                    "y": [
                      0,
                      1
                    ]
                  },
                  "xaxis": {
                    "title": {
                      "text": "Component 0"
                    }
                  },
                  "yaxis": {
                    "title": {
                      "text": "Component 1"
                    }
                  },
                  "zaxis": {
                    "title": {
                      "text": "Component 2"
                    }
                  }
                },
                "template": {
                  "data": {
                    "bar": [
                      {
                        "error_x": {
                          "color": "#2a3f5f"
                        },
                        "error_y": {
                          "color": "#2a3f5f"
                        },
                        "marker": {
                          "line": {
                            "color": "#E5ECF6",
                            "width": 0.5
                          },
                          "pattern": {
                            "fillmode": "overlay",
                            "size": 10,
                            "solidity": 0.2
                          }
                        },
                        "type": "bar"
                      }
                    ],
                    "barpolar": [
                      {
                        "marker": {
                          "line": {
                            "color": "#E5ECF6",
                            "width": 0.5
                          },
                          "pattern": {
                            "fillmode": "overlay",
                            "size": 10,
                            "solidity": 0.2
                          }
                        },
                        "type": "barpolar"
                      }
                    ],
                    "carpet": [
                      {
                        "aaxis": {
                          "endlinecolor": "#2a3f5f",
                          "gridcolor": "white",
                          "linecolor": "white",
                          "minorgridcolor": "white",
                          "startlinecolor": "#2a3f5f"
                        },
                        "baxis": {
                          "endlinecolor": "#2a3f5f",
                          "gridcolor": "white",
                          "linecolor": "white",
                          "minorgridcolor": "white",
                          "startlinecolor": "#2a3f5f"
                        },
                        "type": "carpet"
                      }
                    ],
                    "choropleth": [
                      {
                        "colorbar": {
                          "outlinewidth": 0,
                          "ticks": ""
                        },
                        "type": "choropleth"
                      }
                    ],
                    "contour": [
                      {
                        "colorbar": {
                          "outlinewidth": 0,
                          "ticks": ""
                        },
                        "colorscale": [
                          [
                            0,
                            "#0d0887"
                          ],
                          [
                            0.1111111111111111,
                            "#46039f"
                          ],
                          [
                            0.2222222222222222,
                            "#7201a8"
                          ],
                          [
                            0.3333333333333333,
                            "#9c179e"
                          ],
                          [
                            0.4444444444444444,
                            "#bd3786"
                          ],
                          [
                            0.5555555555555556,
                            "#d8576b"
                          ],
                          [
                            0.6666666666666666,
                            "#ed7953"
                          ],
                          [
                            0.7777777777777778,
                            "#fb9f3a"
                          ],
                          [
                            0.8888888888888888,
                            "#fdca26"
                          ],
                          [
                            1,
                            "#f0f921"
                          ]
                        ],
                        "type": "contour"
                      }
                    ],
                    "contourcarpet": [
                      {
                        "colorbar": {
                          "outlinewidth": 0,
                          "ticks": ""
                        },
                        "type": "contourcarpet"
                      }
                    ],
                    "heatmap": [
                      {
                        "colorbar": {
                          "outlinewidth": 0,
                          "ticks": ""
                        },
                        "colorscale": [
                          [
                            0,
                            "#0d0887"
                          ],
                          [
                            0.1111111111111111,
                            "#46039f"
                          ],
                          [
                            0.2222222222222222,
                            "#7201a8"
                          ],
                          [
                            0.3333333333333333,
                            "#9c179e"
                          ],
                          [
                            0.4444444444444444,
                            "#bd3786"
                          ],
                          [
                            0.5555555555555556,
                            "#d8576b"
                          ],
                          [
                            0.6666666666666666,
                            "#ed7953"
                          ],
                          [
                            0.7777777777777778,
                            "#fb9f3a"
                          ],
                          [
                            0.8888888888888888,
                            "#fdca26"
                          ],
                          [
                            1,
                            "#f0f921"
                          ]
                        ],
                        "type": "heatmap"
                      }
                    ],
                    "heatmapgl": [
                      {
                        "colorbar": {
                          "outlinewidth": 0,
                          "ticks": ""
                        },
                        "colorscale": [
                          [
                            0,
                            "#0d0887"
                          ],
                          [
                            0.1111111111111111,
                            "#46039f"
                          ],
                          [
                            0.2222222222222222,
                            "#7201a8"
                          ],
                          [
                            0.3333333333333333,
                            "#9c179e"
                          ],
                          [
                            0.4444444444444444,
                            "#bd3786"
                          ],
                          [
                            0.5555555555555556,
                            "#d8576b"
                          ],
                          [
                            0.6666666666666666,
                            "#ed7953"
                          ],
                          [
                            0.7777777777777778,
                            "#fb9f3a"
                          ],
                          [
                            0.8888888888888888,
                            "#fdca26"
                          ],
                          [
                            1,
                            "#f0f921"
                          ]
                        ],
                        "type": "heatmapgl"
                      }
                    ],
                    "histogram": [
                      {
                        "marker": {
                          "pattern": {
                            "fillmode": "overlay",
                            "size": 10,
                            "solidity": 0.2
                          }
                        },
                        "type": "histogram"
                      }
                    ],
                    "histogram2d": [
                      {
                        "colorbar": {
                          "outlinewidth": 0,
                          "ticks": ""
                        },
                        "colorscale": [
                          [
                            0,
                            "#0d0887"
                          ],
                          [
                            0.1111111111111111,
                            "#46039f"
                          ],
                          [
                            0.2222222222222222,
                            "#7201a8"
                          ],
                          [
                            0.3333333333333333,
                            "#9c179e"
                          ],
                          [
                            0.4444444444444444,
                            "#bd3786"
                          ],
                          [
                            0.5555555555555556,
                            "#d8576b"
                          ],
                          [
                            0.6666666666666666,
                            "#ed7953"
                          ],
                          [
                            0.7777777777777778,
                            "#fb9f3a"
                          ],
                          [
                            0.8888888888888888,
                            "#fdca26"
                          ],
                          [
                            1,
                            "#f0f921"
                          ]
                        ],
                        "type": "histogram2d"
                      }
                    ],
                    "histogram2dcontour": [
                      {
                        "colorbar": {
                          "outlinewidth": 0,
                          "ticks": ""
                        },
                        "colorscale": [
                          [
                            0,
                            "#0d0887"
                          ],
                          [
                            0.1111111111111111,
                            "#46039f"
                          ],
                          [
                            0.2222222222222222,
                            "#7201a8"
                          ],
                          [
                            0.3333333333333333,
                            "#9c179e"
                          ],
                          [
                            0.4444444444444444,
                            "#bd3786"
                          ],
                          [
                            0.5555555555555556,
                            "#d8576b"
                          ],
                          [
                            0.6666666666666666,
                            "#ed7953"
                          ],
                          [
                            0.7777777777777778,
                            "#fb9f3a"
                          ],
                          [
                            0.8888888888888888,
                            "#fdca26"
                          ],
                          [
                            1,
                            "#f0f921"
                          ]
                        ],
                        "type": "histogram2dcontour"
                      }
                    ],
                    "mesh3d": [
                      {
                        "colorbar": {
                          "outlinewidth": 0,
                          "ticks": ""
                        },
                        "type": "mesh3d"
                      }
                    ],
                    "parcoords": [
                      {
                        "line": {
                          "colorbar": {
                            "outlinewidth": 0,
                            "ticks": ""
                          }
                        },
                        "type": "parcoords"
                      }
                    ],
                    "pie": [
                      {
                        "automargin": true,
                        "type": "pie"
                      }
                    ],
                    "scatter": [
                      {
                        "fillpattern": {
                          "fillmode": "overlay",
                          "size": 10,
                          "solidity": 0.2
                        },
                        "type": "scatter"
                      }
                    ],
                    "scatter3d": [
                      {
                        "line": {
                          "colorbar": {
                            "outlinewidth": 0,
                            "ticks": ""
                          }
                        },
                        "marker": {
                          "colorbar": {
                            "outlinewidth": 0,
                            "ticks": ""
                          }
                        },
                        "type": "scatter3d"
                      }
                    ],
                    "scattercarpet": [
                      {
                        "marker": {
                          "colorbar": {
                            "outlinewidth": 0,
                            "ticks": ""
                          }
                        },
                        "type": "scattercarpet"
                      }
                    ],
                    "scattergeo": [
                      {
                        "marker": {
                          "colorbar": {
                            "outlinewidth": 0,
                            "ticks": ""
                          }
                        },
                        "type": "scattergeo"
                      }
                    ],
                    "scattergl": [
                      {
                        "marker": {
                          "colorbar": {
                            "outlinewidth": 0,
                            "ticks": ""
                          }
                        },
                        "type": "scattergl"
                      }
                    ],
                    "scattermapbox": [
                      {
                        "marker": {
                          "colorbar": {
                            "outlinewidth": 0,
                            "ticks": ""
                          }
                        },
                        "type": "scattermapbox"
                      }
                    ],
                    "scatterpolar": [
                      {
                        "marker": {
                          "colorbar": {
                            "outlinewidth": 0,
                            "ticks": ""
                          }
                        },
                        "type": "scatterpolar"
                      }
                    ],
                    "scatterpolargl": [
                      {
                        "marker": {
                          "colorbar": {
                            "outlinewidth": 0,
                            "ticks": ""
                          }
                        },
                        "type": "scatterpolargl"
                      }
                    ],
                    "scatterternary": [
                      {
                        "marker": {
                          "colorbar": {
                            "outlinewidth": 0,
                            "ticks": ""
                          }
                        },
                        "type": "scatterternary"
                      }
                    ],
                    "surface": [
                      {
                        "colorbar": {
                          "outlinewidth": 0,
                          "ticks": ""
                        },
                        "colorscale": [
                          [
                            0,
                            "#0d0887"
                          ],
                          [
                            0.1111111111111111,
                            "#46039f"
                          ],
                          [
                            0.2222222222222222,
                            "#7201a8"
                          ],
                          [
                            0.3333333333333333,
                            "#9c179e"
                          ],
                          [
                            0.4444444444444444,
                            "#bd3786"
                          ],
                          [
                            0.5555555555555556,
                            "#d8576b"
                          ],
                          [
                            0.6666666666666666,
                            "#ed7953"
                          ],
                          [
                            0.7777777777777778,
                            "#fb9f3a"
                          ],
                          [
                            0.8888888888888888,
                            "#fdca26"
                          ],
                          [
                            1,
                            "#f0f921"
                          ]
                        ],
                        "type": "surface"
                      }
                    ],
                    "table": [
                      {
                        "cells": {
                          "fill": {
                            "color": "#EBF0F8"
                          },
                          "line": {
                            "color": "white"
                          }
                        },
                        "header": {
                          "fill": {
                            "color": "#C8D4E3"
                          },
                          "line": {
                            "color": "white"
                          }
                        },
                        "type": "table"
                      }
                    ]
                  },
                  "layout": {
                    "annotationdefaults": {
                      "arrowcolor": "#2a3f5f",
                      "arrowhead": 0,
                      "arrowwidth": 1
                    },
                    "autotypenumbers": "strict",
                    "coloraxis": {
                      "colorbar": {
                        "outlinewidth": 0,
                        "ticks": ""
                      }
                    },
                    "colorscale": {
                      "diverging": [
                        [
                          0,
                          "#8e0152"
                        ],
                        [
                          0.1,
                          "#c51b7d"
                        ],
                        [
                          0.2,
                          "#de77ae"
                        ],
                        [
                          0.3,
                          "#f1b6da"
                        ],
                        [
                          0.4,
                          "#fde0ef"
                        ],
                        [
                          0.5,
                          "#f7f7f7"
                        ],
                        [
                          0.6,
                          "#e6f5d0"
                        ],
                        [
                          0.7,
                          "#b8e186"
                        ],
                        [
                          0.8,
                          "#7fbc41"
                        ],
                        [
                          0.9,
                          "#4d9221"
                        ],
                        [
                          1,
                          "#276419"
                        ]
                      ],
                      "sequential": [
                        [
                          0,
                          "#0d0887"
                        ],
                        [
                          0.1111111111111111,
                          "#46039f"
                        ],
                        [
                          0.2222222222222222,
                          "#7201a8"
                        ],
                        [
                          0.3333333333333333,
                          "#9c179e"
                        ],
                        [
                          0.4444444444444444,
                          "#bd3786"
                        ],
                        [
                          0.5555555555555556,
                          "#d8576b"
                        ],
                        [
                          0.6666666666666666,
                          "#ed7953"
                        ],
                        [
                          0.7777777777777778,
                          "#fb9f3a"
                        ],
                        [
                          0.8888888888888888,
                          "#fdca26"
                        ],
                        [
                          1,
                          "#f0f921"
                        ]
                      ],
                      "sequentialminus": [
                        [
                          0,
                          "#0d0887"
                        ],
                        [
                          0.1111111111111111,
                          "#46039f"
                        ],
                        [
                          0.2222222222222222,
                          "#7201a8"
                        ],
                        [
                          0.3333333333333333,
                          "#9c179e"
                        ],
                        [
                          0.4444444444444444,
                          "#bd3786"
                        ],
                        [
                          0.5555555555555556,
                          "#d8576b"
                        ],
                        [
                          0.6666666666666666,
                          "#ed7953"
                        ],
                        [
                          0.7777777777777778,
                          "#fb9f3a"
                        ],
                        [
                          0.8888888888888888,
                          "#fdca26"
                        ],
                        [
                          1,
                          "#f0f921"
                        ]
                      ]
                    },
                    "colorway": [
                      "#636efa",
                      "#EF553B",
                      "#00cc96",
                      "#ab63fa",
                      "#FFA15A",
                      "#19d3f3",
                      "#FF6692",
                      "#B6E880",
                      "#FF97FF",
                      "#FECB52"
                    ],
                    "font": {
                      "color": "#2a3f5f"
                    },
                    "geo": {
                      "bgcolor": "white",
                      "lakecolor": "white",
                      "landcolor": "#E5ECF6",
                      "showlakes": true,
                      "showland": true,
                      "subunitcolor": "white"
                    },
                    "hoverlabel": {
                      "align": "left"
                    },
                    "hovermode": "closest",
                    "mapbox": {
                      "style": "light"
                    },
                    "paper_bgcolor": "white",
                    "plot_bgcolor": "#E5ECF6",
                    "polar": {
                      "angularaxis": {
                        "gridcolor": "white",
                        "linecolor": "white",
                        "ticks": ""
                      },
                      "bgcolor": "#E5ECF6",
                      "radialaxis": {
                        "gridcolor": "white",
                        "linecolor": "white",
                        "ticks": ""
                      }
                    },
                    "scene": {
                      "xaxis": {
                        "backgroundcolor": "#E5ECF6",
                        "gridcolor": "white",
                        "gridwidth": 2,
                        "linecolor": "white",
                        "showbackground": true,
                        "ticks": "",
                        "zerolinecolor": "white"
                      },
                      "yaxis": {
                        "backgroundcolor": "#E5ECF6",
                        "gridcolor": "white",
                        "gridwidth": 2,
                        "linecolor": "white",
                        "showbackground": true,
                        "ticks": "",
                        "zerolinecolor": "white"
                      },
                      "zaxis": {
                        "backgroundcolor": "#E5ECF6",
                        "gridcolor": "white",
                        "gridwidth": 2,
                        "linecolor": "white",
                        "showbackground": true,
                        "ticks": "",
                        "zerolinecolor": "white"
                      }
                    },
                    "shapedefaults": {
                      "line": {
                        "color": "#2a3f5f"
                      }
                    },
                    "ternary": {
                      "aaxis": {
                        "gridcolor": "white",
                        "linecolor": "white",
                        "ticks": ""
                      },
                      "baxis": {
                        "gridcolor": "white",
                        "linecolor": "white",
                        "ticks": ""
                      },
                      "bgcolor": "#E5ECF6",
                      "caxis": {
                        "gridcolor": "white",
                        "linecolor": "white",
                        "ticks": ""
                      }
                    },
                    "title": {
                      "x": 0.05
                    },
                    "xaxis": {
                      "automargin": true,
                      "gridcolor": "white",
                      "linecolor": "white",
                      "ticks": "",
                      "title": {
                        "standoff": 15
                      },
                      "zerolinecolor": "white",
                      "zerolinewidth": 2
                    },
                    "yaxis": {
                      "automargin": true,
                      "gridcolor": "white",
                      "linecolor": "white",
                      "ticks": "",
                      "title": {
                        "standoff": 15
                      },
                      "zerolinecolor": "white",
                      "zerolinewidth": 2
                    }
                  }
                },
                "width": 750
              }
            }
          },
          "metadata": {},
          "output_type": "display_data"
        }
      ],
      "source": [
        "import plotly.express as px\n",
        "fig = px.scatter_3d(x=x_PCA[:,0], y=x_PCA[:,1], z= x_PCA[:,2] , color=df_target['diagnostic'],\n",
        "                    labels=dict(x=\"Component 0\", y=\"Component 1\", z='Component 2'),\n",
        "                    color_continuous_scale='spectral',\n",
        "                    width=750, height=500)\n",
        "fig.update_traces(marker_size=5)\n",
        "fig.show()"
      ]
    }
  ],
  "metadata": {
    "accelerator": "GPU",
    "colab": {
      "name": "Data Practitioner Jupyter Notebook.ipynb",
      "provenance": [],
      "toc_visible": true
    },
    "kernelspec": {
      "display_name": ".venv (3.12.8)",
      "language": "python",
      "name": "python3"
    },
    "language_info": {
      "codemirror_mode": {
        "name": "ipython",
        "version": 3
      },
      "file_extension": ".py",
      "mimetype": "text/x-python",
      "name": "python",
      "nbconvert_exporter": "python",
      "pygments_lexer": "ipython3",
      "version": "3.12.8"
    },
    "orig_nbformat": 2
  },
  "nbformat": 4,
  "nbformat_minor": 2
}
